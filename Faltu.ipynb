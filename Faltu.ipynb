{
 "cells": [
  {
   "cell_type": "code",
   "execution_count": null,
   "id": "d85395a1",
   "metadata": {},
   "outputs": [],
   "source": [
    "#User function Template for python3\n",
    "'''\n",
    "Function Arguments :\n",
    "\t\t@param  : q ( given queue to be used), k(Integer )\n",
    "\t\t@return : list, just reverse the first k elements of queue and return new queue\n",
    "'''\n",
    "\n",
    "#Function to reverse first k elements of a queue.\n",
    "def modifyQueue(q,k):\n",
    "    # code here\n",
    "# Ke hmne yha kth tk value ko fetch kr liya h\n",
    "\n",
    "    \n",
    "    stack = []\n",
    "    for i in range(k):\n",
    "        val = q[0]\n",
    "        q.pop(0)\n",
    "        stack.append(val)\n",
    "        \n",
    "    # ab me stack me se value ko nikal ke queue me put krunga okk\n",
    "    \n",
    "    while stack:\n",
    "        val = stack.pop()\n",
    "        q.append(val)\n",
    "    \n",
    "    \n",
    "    # Reverse kr do n-k value ko queuqu me \n",
    "    \n",
    "    t = len(q) - k \n",
    "    while t:\n",
    "        val = q[0]\n",
    "        q.pop(0)\n",
    "        q.append(val)\n",
    "        t -= 1\n",
    "        \n",
    "    return q\n",
    "  "
   ]
  }
 ],
 "metadata": {
  "kernelspec": {
   "display_name": "Python 3 (ipykernel)",
   "language": "python",
   "name": "python3"
  },
  "language_info": {
   "codemirror_mode": {
    "name": "ipython",
    "version": 3
   },
   "file_extension": ".py",
   "mimetype": "text/x-python",
   "name": "python",
   "nbconvert_exporter": "python",
   "pygments_lexer": "ipython3",
   "version": "3.10.8"
  }
 },
 "nbformat": 4,
 "nbformat_minor": 5
}
